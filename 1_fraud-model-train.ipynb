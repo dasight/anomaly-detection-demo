{
 "cells": [
  {
   "cell_type": "markdown",
   "metadata": {},
   "source": [
    "# Credit Card Fraud Model Training & Evaluation\n",
    "## Prerequisite\n",
    "\n",
    "Here, we present the steps of building and training a credit card fraud detection model. We use the autoencoder approach and implement with PyTorch. First of all, import necessary Python modules, especially Numpy, Pandas and PyTorch."
   ]
  },
  {
   "cell_type": "code",
   "execution_count": 2,
   "metadata": {},
   "outputs": [],
   "source": [
    "from datetime import datetime\n",
    "import numpy as np\n",
    "import pandas as pd\n",
    "import torch\n",
    "import torch.nn as nn\n",
    "import torch.nn.functional as F\n",
    "from torch.utils.data import TensorDataset, DataLoader"
   ]
  },
  {
   "cell_type": "markdown",
   "metadata": {},
   "source": [
    "We use the Kaggle [Credit Card Fraud Detection](https://www.kaggle.com/mlg-ulb/creditcardfraud) dataset here. The datasets contains transactions made by credit cards in September 2013 by European cardholders, and presents transactions that occurred in two days, where we have 492 frauds out of 284,807 transactions. The dataset is highly unbalanced, the positive class (frauds) account for 0.172% of all transactions.\n",
    "\n",
    "The dataset is in CSV format, with the first row as the header. We first load it as a Pandas DataFrame, and verify its positive and negative samples."
   ]
  },
  {
   "cell_type": "code",
   "execution_count": 3,
   "metadata": {},
   "outputs": [
    {
     "name": "stdout",
     "output_type": "stream",
     "text": [
      "Number of records: 284807\n",
      "Positive samples: 284315\n",
      "Negative samples: 492\n"
     ]
    }
   ],
   "source": [
    "data_file='data/creditcard.csv'\n",
    "data=pd.read_csv(data_file,header=0)\n",
    "print('Number of records:',len(data))\n",
    "print('Positive samples:',len(data[data.Class==0]))\n",
    "print('Negative samples:',len(data[data.Class==1]))"
   ]
  },
  {
   "cell_type": "markdown",
   "metadata": {},
   "source": [
    "The dataset looks like the following. It contains only numerical input variables which are the result of a PCA transformation. Features V1, V2, … V28 are the principal components obtained with PCA, the only features which have not been transformed with PCA are 'Time' and 'Amount'. Feature 'Time' contains the seconds elapsed between each transaction and the first transaction in the dataset. The feature 'Amount' is the transaction Amount, and the feature 'Class' is the response variable and it takes value 1 in case of fraud and 0 otherwise."
   ]
  },
  {
   "cell_type": "code",
   "execution_count": 4,
   "metadata": {},
   "outputs": [
    {
     "data": {
      "text/html": [
       "<div>\n",
       "<style scoped>\n",
       "    .dataframe tbody tr th:only-of-type {\n",
       "        vertical-align: middle;\n",
       "    }\n",
       "\n",
       "    .dataframe tbody tr th {\n",
       "        vertical-align: top;\n",
       "    }\n",
       "\n",
       "    .dataframe thead th {\n",
       "        text-align: right;\n",
       "    }\n",
       "</style>\n",
       "<table border=\"1\" class=\"dataframe\">\n",
       "  <thead>\n",
       "    <tr style=\"text-align: right;\">\n",
       "      <th></th>\n",
       "      <th>Time</th>\n",
       "      <th>V1</th>\n",
       "      <th>V2</th>\n",
       "      <th>V3</th>\n",
       "      <th>V4</th>\n",
       "      <th>V5</th>\n",
       "      <th>V6</th>\n",
       "      <th>V7</th>\n",
       "      <th>V8</th>\n",
       "      <th>V9</th>\n",
       "      <th>...</th>\n",
       "      <th>V21</th>\n",
       "      <th>V22</th>\n",
       "      <th>V23</th>\n",
       "      <th>V24</th>\n",
       "      <th>V25</th>\n",
       "      <th>V26</th>\n",
       "      <th>V27</th>\n",
       "      <th>V28</th>\n",
       "      <th>Amount</th>\n",
       "      <th>Class</th>\n",
       "    </tr>\n",
       "  </thead>\n",
       "  <tbody>\n",
       "    <tr>\n",
       "      <th>0</th>\n",
       "      <td>0.0</td>\n",
       "      <td>-1.359807</td>\n",
       "      <td>-0.072781</td>\n",
       "      <td>2.536347</td>\n",
       "      <td>1.378155</td>\n",
       "      <td>-0.338321</td>\n",
       "      <td>0.462388</td>\n",
       "      <td>0.239599</td>\n",
       "      <td>0.098698</td>\n",
       "      <td>0.363787</td>\n",
       "      <td>...</td>\n",
       "      <td>-0.018307</td>\n",
       "      <td>0.277838</td>\n",
       "      <td>-0.110474</td>\n",
       "      <td>0.066928</td>\n",
       "      <td>0.128539</td>\n",
       "      <td>-0.189115</td>\n",
       "      <td>0.133558</td>\n",
       "      <td>-0.021053</td>\n",
       "      <td>149.62</td>\n",
       "      <td>0</td>\n",
       "    </tr>\n",
       "    <tr>\n",
       "      <th>1</th>\n",
       "      <td>0.0</td>\n",
       "      <td>1.191857</td>\n",
       "      <td>0.266151</td>\n",
       "      <td>0.166480</td>\n",
       "      <td>0.448154</td>\n",
       "      <td>0.060018</td>\n",
       "      <td>-0.082361</td>\n",
       "      <td>-0.078803</td>\n",
       "      <td>0.085102</td>\n",
       "      <td>-0.255425</td>\n",
       "      <td>...</td>\n",
       "      <td>-0.225775</td>\n",
       "      <td>-0.638672</td>\n",
       "      <td>0.101288</td>\n",
       "      <td>-0.339846</td>\n",
       "      <td>0.167170</td>\n",
       "      <td>0.125895</td>\n",
       "      <td>-0.008983</td>\n",
       "      <td>0.014724</td>\n",
       "      <td>2.69</td>\n",
       "      <td>0</td>\n",
       "    </tr>\n",
       "    <tr>\n",
       "      <th>2</th>\n",
       "      <td>1.0</td>\n",
       "      <td>-1.358354</td>\n",
       "      <td>-1.340163</td>\n",
       "      <td>1.773209</td>\n",
       "      <td>0.379780</td>\n",
       "      <td>-0.503198</td>\n",
       "      <td>1.800499</td>\n",
       "      <td>0.791461</td>\n",
       "      <td>0.247676</td>\n",
       "      <td>-1.514654</td>\n",
       "      <td>...</td>\n",
       "      <td>0.247998</td>\n",
       "      <td>0.771679</td>\n",
       "      <td>0.909412</td>\n",
       "      <td>-0.689281</td>\n",
       "      <td>-0.327642</td>\n",
       "      <td>-0.139097</td>\n",
       "      <td>-0.055353</td>\n",
       "      <td>-0.059752</td>\n",
       "      <td>378.66</td>\n",
       "      <td>0</td>\n",
       "    </tr>\n",
       "    <tr>\n",
       "      <th>3</th>\n",
       "      <td>1.0</td>\n",
       "      <td>-0.966272</td>\n",
       "      <td>-0.185226</td>\n",
       "      <td>1.792993</td>\n",
       "      <td>-0.863291</td>\n",
       "      <td>-0.010309</td>\n",
       "      <td>1.247203</td>\n",
       "      <td>0.237609</td>\n",
       "      <td>0.377436</td>\n",
       "      <td>-1.387024</td>\n",
       "      <td>...</td>\n",
       "      <td>-0.108300</td>\n",
       "      <td>0.005274</td>\n",
       "      <td>-0.190321</td>\n",
       "      <td>-1.175575</td>\n",
       "      <td>0.647376</td>\n",
       "      <td>-0.221929</td>\n",
       "      <td>0.062723</td>\n",
       "      <td>0.061458</td>\n",
       "      <td>123.50</td>\n",
       "      <td>0</td>\n",
       "    </tr>\n",
       "    <tr>\n",
       "      <th>4</th>\n",
       "      <td>2.0</td>\n",
       "      <td>-1.158233</td>\n",
       "      <td>0.877737</td>\n",
       "      <td>1.548718</td>\n",
       "      <td>0.403034</td>\n",
       "      <td>-0.407193</td>\n",
       "      <td>0.095921</td>\n",
       "      <td>0.592941</td>\n",
       "      <td>-0.270533</td>\n",
       "      <td>0.817739</td>\n",
       "      <td>...</td>\n",
       "      <td>-0.009431</td>\n",
       "      <td>0.798278</td>\n",
       "      <td>-0.137458</td>\n",
       "      <td>0.141267</td>\n",
       "      <td>-0.206010</td>\n",
       "      <td>0.502292</td>\n",
       "      <td>0.219422</td>\n",
       "      <td>0.215153</td>\n",
       "      <td>69.99</td>\n",
       "      <td>0</td>\n",
       "    </tr>\n",
       "  </tbody>\n",
       "</table>\n",
       "<p>5 rows × 31 columns</p>\n",
       "</div>"
      ],
      "text/plain": [
       "   Time        V1        V2        V3        V4        V5        V6        V7  \\\n",
       "0   0.0 -1.359807 -0.072781  2.536347  1.378155 -0.338321  0.462388  0.239599   \n",
       "1   0.0  1.191857  0.266151  0.166480  0.448154  0.060018 -0.082361 -0.078803   \n",
       "2   1.0 -1.358354 -1.340163  1.773209  0.379780 -0.503198  1.800499  0.791461   \n",
       "3   1.0 -0.966272 -0.185226  1.792993 -0.863291 -0.010309  1.247203  0.237609   \n",
       "4   2.0 -1.158233  0.877737  1.548718  0.403034 -0.407193  0.095921  0.592941   \n",
       "\n",
       "         V8        V9  ...       V21       V22       V23       V24       V25  \\\n",
       "0  0.098698  0.363787  ... -0.018307  0.277838 -0.110474  0.066928  0.128539   \n",
       "1  0.085102 -0.255425  ... -0.225775 -0.638672  0.101288 -0.339846  0.167170   \n",
       "2  0.247676 -1.514654  ...  0.247998  0.771679  0.909412 -0.689281 -0.327642   \n",
       "3  0.377436 -1.387024  ... -0.108300  0.005274 -0.190321 -1.175575  0.647376   \n",
       "4 -0.270533  0.817739  ... -0.009431  0.798278 -0.137458  0.141267 -0.206010   \n",
       "\n",
       "        V26       V27       V28  Amount  Class  \n",
       "0 -0.189115  0.133558 -0.021053  149.62      0  \n",
       "1  0.125895 -0.008983  0.014724    2.69      0  \n",
       "2 -0.139097 -0.055353 -0.059752  378.66      0  \n",
       "3 -0.221929  0.062723  0.061458  123.50      0  \n",
       "4  0.502292  0.219422  0.215153   69.99      0  \n",
       "\n",
       "[5 rows x 31 columns]"
      ]
     },
     "execution_count": 4,
     "metadata": {},
     "output_type": "execute_result"
    }
   ],
   "source": [
    "data.head()"
   ]
  },
  {
   "cell_type": "markdown",
   "metadata": {},
   "source": [
    "## Data preprocessing\n",
    "### Choosing positive samples\n",
    "\n",
    "The autoencoder for fraud detection uses only the positive (non-fraud) samples to train the model, thus only chooses records with Class==0. Then we split the chosen records as train set and test set."
   ]
  },
  {
   "cell_type": "code",
   "execution_count": 5,
   "metadata": {},
   "outputs": [
    {
     "name": "stdout",
     "output_type": "stream",
     "text": [
      "Train and test set: 284315\n"
     ]
    }
   ],
   "source": [
    "feature_names=data.columns.values[:-1]\n",
    "train_test_set = data[data.Class==0][feature_names]\n",
    "print('Train and test set:',len(train_test_set))"
   ]
  },
  {
   "cell_type": "markdown",
   "metadata": {},
   "source": [
    "### Splitting into train set and test set"
   ]
  },
  {
   "cell_type": "code",
   "execution_count": 6,
   "metadata": {},
   "outputs": [],
   "source": [
    "from sklearn.model_selection import train_test_split\n",
    "train_set, test_set = train_test_split(train_test_set, test_size=0.2, random_state=42)"
   ]
  },
  {
   "cell_type": "markdown",
   "metadata": {},
   "source": [
    "### Data preprocessing using MinMaxScaler\n",
    "\n",
    "Use Sklearn MinMaxScaler to transform the data value ranges to 0..1. We show the value of the first two rows after transformation."
   ]
  },
  {
   "cell_type": "code",
   "execution_count": 7,
   "metadata": {},
   "outputs": [
    {
     "data": {
      "text/plain": [
       "array([[8.42327013e-01, 9.47367642e-01, 7.97217483e-01, 7.76227227e-01,\n",
       "        2.41740662e-01, 5.43571003e-01, 5.15661441e-01, 4.19171267e-01,\n",
       "        8.02040109e-01, 3.17799008e-01, 3.49988397e-01, 2.35464057e-01,\n",
       "        6.15377573e-01, 4.10107015e-01, 5.99855337e-01, 4.48405051e-01,\n",
       "        6.02247154e-01, 6.71423155e-01, 6.12703253e-01, 5.13449227e-01,\n",
       "        4.11165178e-01, 6.10928994e-01, 5.39959714e-01, 6.67924552e-01,\n",
       "        5.05950311e-01, 5.33984885e-01, 5.03033612e-01, 6.46853527e-01,\n",
       "        2.57966091e-01, 5.09856012e-03],\n",
       "       [2.44658194e-01, 9.79105547e-01, 7.97062325e-01, 7.83882282e-01,\n",
       "        3.03888114e-01, 5.48372609e-01, 5.15350500e-01, 4.21609233e-01,\n",
       "        7.95745386e-01, 2.79267731e-01, 3.87358807e-01, 3.75257082e-01,\n",
       "        6.96864586e-01, 5.41487510e-01, 6.50882451e-01, 3.64243237e-01,\n",
       "        5.45108394e-01, 6.30551391e-01, 5.31712561e-01, 5.85659779e-01,\n",
       "        4.13125001e-01, 6.06201154e-01, 5.15266633e-01, 6.62486089e-01,\n",
       "        4.14393519e-01, 6.25814080e-01, 3.86877333e-01, 6.50121975e-01,\n",
       "        2.57044176e-01, 5.08736791e-05]])"
      ]
     },
     "execution_count": 7,
     "metadata": {},
     "output_type": "execute_result"
    }
   ],
   "source": [
    "from sklearn.preprocessing import MinMaxScaler\n",
    "scaler=MinMaxScaler().fit(train_set)\n",
    "train_set=scaler.transform(train_set)\n",
    "test_set=scaler.transform(test_set)\n",
    "train_set[:2]"
   ]
  },
  {
   "cell_type": "markdown",
   "metadata": {},
   "source": [
    "Moreover, we can also check the distribution of each feature. The following diagram shows the distribution of the first three and the last features."
   ]
  },
  {
   "cell_type": "code",
   "execution_count": 8,
   "metadata": {},
   "outputs": [
    {
     "data": {
      "text/plain": [
       "<matplotlib.axes._subplots.AxesSubplot at 0x118c49f98>"
      ]
     },
     "execution_count": 8,
     "metadata": {},
     "output_type": "execute_result"
    },
    {
     "data": {
      "image/png": "[encoded data removed]",
      "text/plain": [
       "<Figure size 432x288 with 1 Axes>"
      ]
     },
     "metadata": {},
     "output_type": "display_data"
    }
   ],
   "source": [
    "import matplotlib.pyplot as plt\n",
    "%matplotlib inline\n",
    "pd.Series(train_set[:,0]).hist(bins=100)\n",
    "pd.Series(train_set[:,1]).hist(bins=100)\n",
    "pd.Series(train_set[:,2]).hist(bins=100)\n",
    "pd.Series(train_set[:,-1]).hist(bins=100)"
   ]
  },
  {
   "cell_type": "markdown",
   "metadata": {},
   "source": [
    "## Modelling and training\n",
    "### Model definition\n",
    "\n",
    "Define the autoencoder model with PyTorch. Here, we define 2 hidden layer for each of the encoder and decoder, with 15 and 7 cells respectively, and use ReLU as the activation function."
   ]
  },
  {
   "cell_type": "code",
   "execution_count": 9,
   "metadata": {},
   "outputs": [],
   "source": [
    "class autoencoder(nn.Module):\n",
    "    def __init__(self,num_input):\n",
    "        super(autoencoder, self).__init__()\n",
    "        self.encoder = nn.Sequential(\n",
    "            nn.Linear(num_input, 15),\n",
    "            nn.ReLU(True),\n",
    "            nn.Linear(15, 7))\n",
    "        self.decoder = nn.Sequential(\n",
    "            nn.Linear(7, 15),\n",
    "            nn.ReLU(True),\n",
    "            nn.Linear(15, num_input),\n",
    "            nn.Tanh())\n",
    "\n",
    "    def forward(self, x):\n",
    "        x = self.encoder(x)\n",
    "        x = self.decoder(x)\n",
    "        return x"
   ]
  },
  {
   "cell_type": "markdown",
   "metadata": {},
   "source": [
    "### Defining data loader"
   ]
  },
  {
   "cell_type": "code",
   "execution_count": 10,
   "metadata": {},
   "outputs": [],
   "source": [
    "batch_size = 256\n",
    "num_workers = 4\n",
    "\n",
    "inputs = torch.tensor(train_set, dtype=torch.float32)\n",
    "dataset = TensorDataset(inputs)\n",
    "dataloader = DataLoader(dataset, batch_size=batch_size, num_workers=num_workers, shuffle=False)"
   ]
  },
  {
   "cell_type": "markdown",
   "metadata": {},
   "source": [
    "### Defining loss function and optimizer"
   ]
  },
  {
   "cell_type": "code",
   "execution_count": 11,
   "metadata": {},
   "outputs": [],
   "source": [
    "lr = 0.01\n",
    "\n",
    "model = autoencoder(inputs.shape[1])\n",
    "model = model.cuda() if torch.cuda.is_available() else model\n",
    "criterion = nn.MSELoss(reduction='sum')\n",
    "optimizer = torch.optim.Adam(model.parameters(), lr=lr, weight_decay=1e-5)"
   ]
  },
  {
   "cell_type": "markdown",
   "metadata": {},
   "source": [
    "### Defining test function\n",
    "\n",
    "The test function is used for cross validation during the training. Here we choose to do cross validation for each 5 epochs."
   ]
  },
  {
   "cell_type": "code",
   "execution_count": 12,
   "metadata": {},
   "outputs": [],
   "source": [
    "def test():\n",
    "    model.eval()\n",
    "\n",
    "    with torch.no_grad():\n",
    "        if torch.cuda.is_available():\n",
    "            tests_=torch.tensor(test_set, dtype=torch.float32).cuda()\n",
    "        else:\n",
    "            tests_=torch.tensor(test_set, dtype=torch.float32)\n",
    "        outputs = model(tests_)\n",
    "        loss=criterion(outputs,tests_)\n",
    "    #print(tests_,outputs)\n",
    "    return loss.item()/(tests_.shape[0]*tests_.shape[1])"
   ]
  },
  {
   "cell_type": "markdown",
   "metadata": {},
   "source": [
    "### Model training"
   ]
  },
  {
   "cell_type": "code",
   "execution_count": 13,
   "metadata": {},
   "outputs": [
    {
     "name": "stdout",
     "output_type": "stream",
     "text": [
      "2020-05-10 18:32:05.161102 epoch [5/100], loss:0.001350, test_set_loss:0.001348\n",
      "2020-05-10 18:32:11.249185 epoch [10/100], loss:0.001302, test_set_loss:0.001304\n",
      "2020-05-10 18:32:17.820717 epoch [15/100], loss:0.001282, test_set_loss:0.001275\n",
      "2020-05-10 18:32:24.841254 epoch [20/100], loss:0.001267, test_set_loss:0.001259\n",
      "2020-05-10 18:32:31.619783 epoch [25/100], loss:0.001244, test_set_loss:0.001235\n",
      "2020-05-10 18:32:38.562468 epoch [30/100], loss:0.001235, test_set_loss:0.001236\n",
      "2020-05-10 18:32:44.932958 epoch [35/100], loss:0.001235, test_set_loss:0.001231\n",
      "2020-05-10 18:32:51.896279 epoch [40/100], loss:0.001227, test_set_loss:0.001231\n",
      "2020-05-10 18:32:59.101634 epoch [45/100], loss:0.001225, test_set_loss:0.001230\n",
      "2020-05-10 18:33:06.707046 epoch [50/100], loss:0.001225, test_set_loss:0.001233\n",
      "2020-05-10 18:33:14.098740 epoch [55/100], loss:0.001221, test_set_loss:0.001220\n",
      "2020-05-10 18:33:21.447746 epoch [60/100], loss:0.001223, test_set_loss:0.001231\n",
      "2020-05-10 18:33:28.704236 epoch [65/100], loss:0.001219, test_set_loss:0.001234\n",
      "2020-05-10 18:33:36.587522 epoch [70/100], loss:0.001216, test_set_loss:0.001247\n",
      "2020-05-10 18:33:42.968078 epoch [75/100], loss:0.001215, test_set_loss:0.001236\n",
      "2020-05-10 18:33:49.864205 epoch [80/100], loss:0.001280, test_set_loss:0.001672\n",
      "2020-05-10 18:33:57.177136 epoch [85/100], loss:0.001501, test_set_loss:0.001293\n",
      "2020-05-10 18:34:04.871800 epoch [90/100], loss:0.001276, test_set_loss:0.001272\n",
      "2020-05-10 18:34:11.953219 epoch [95/100], loss:0.001268, test_set_loss:0.001264\n",
      "2020-05-10 18:34:18.769562 epoch [100/100], loss:0.001268, test_set_loss:0.001265\n"
     ]
    }
   ],
   "source": [
    "num_epochs = 100\n",
    "\n",
    "for epoch in range(num_epochs):\n",
    "    model.train()\n",
    "    loss_sum=0.0; num=0\n",
    "    for inputs, in dataloader:\n",
    "        if torch.cuda.is_available():\n",
    "            inputs=inputs.cuda()\n",
    "        outputs = model(inputs)\n",
    "        loss = criterion(outputs, inputs)\n",
    "\n",
    "        loss_sum+=loss.item()\n",
    "        num+=(inputs.shape[0]*inputs.shape[1])\n",
    "        optimizer.zero_grad()\n",
    "        loss.backward()\n",
    "        optimizer.step()\n",
    "\n",
    "    if (epoch+1)%5 == 0:\n",
    "        print('{} epoch [{}/{}], loss:{:.6f}, test_set_loss:{:.6f}'\n",
    "                .format(datetime.now(), epoch + 1, num_epochs, loss_sum/num, test()))"
   ]
  },
  {
   "cell_type": "markdown",
   "metadata": {},
   "source": [
    "## Model evaluation\n",
    "### Inference with trained model\n",
    "\n",
    "To inference with the trained model, we do the following:\n",
    "\n",
    "* Preprocess the records using the MinMaxScaler (the *scaler* variable) defined and trained in the *Data preprocessing using MinMaxScaler* section.\n",
    "* Use the preprocessed data as the input vectors of the model, and compute the output vectors by feed forward.\n",
    "* Calculate the root square of the input and output vectors, i.e. the generation losses.\n",
    "* For those whose generation losses are greater than a predefined threshold (as for how to calculate the value of the threshold, see the discussion below), we score them as *fraud*; otherwise, score as *normal*.\n",
    "\n",
    "The value of the threshold is actually calculated via the distribution of the generation losses. Thus let's first show the generation losses of the trained model for the *normal* and *fraud* cases.\n",
    "\n",
    "### Distribution of generation losses\n",
    "\n",
    "As the dataset is highly unbalanced, we take the whole positive (fraud) records while randomly choosing the equal number of negative (normal) records. The diagram below shows the results."
   ]
  },
  {
   "cell_type": "code",
   "execution_count": 14,
   "metadata": {},
   "outputs": [
    {
     "data": {
      "image/png": "[encoded data removed]",
      "text/plain": [
       "<Figure size 432x288 with 1 Axes>"
      ]
     },
     "metadata": {},
     "output_type": "display_data"
    }
   ],
   "source": [
    "model.eval()\n",
    "\n",
    "with torch.no_grad():\n",
    "    test_set2 = data[data.Class==1][feature_names]\n",
    "    test_set2=scaler.transform(test_set2)\n",
    "    inputs2=torch.tensor(test_set2, dtype=torch.float32)\n",
    "    outputs2=model(inputs2)\n",
    "    loss2=torch.sum((inputs2-outputs2)**2,dim=1).sqrt().log()\n",
    "\n",
    "    test_set1=test_set[np.random.choice(len(test_set),size=len(loss2),replace=False)]\n",
    "    inputs1=torch.tensor(test_set1, dtype=torch.float32)\n",
    "    outputs1=model(inputs1)\n",
    "    loss1=torch.sum((inputs1-outputs1)**2,dim=1).sqrt().log()\n",
    "\n",
    "    pd.Series(loss1.numpy()).hist(bins=100)\n",
    "    pd.Series(loss2.numpy()).hist(bins=100)"
   ]
  },
  {
   "cell_type": "markdown",
   "metadata": {},
   "source": [
    "### Calculation of threshold (*split point*)\n",
    "\n",
    "If the distribution functions of the generation losses are the convex function, the threshold is very easy to calculation. It is the just the intersection of the positive-case and negative-case distribution functions. However, as we see from the diagram above, neither of the distribution function is strictly convex.\n",
    "\n",
    "Here, we define the threshold as the split point that maximize the average precise in both positive and negative cases. And use a *5-points* heuristic search approach to find the split point (see the **find_split_point** function).\n",
    "\n",
    "Initially, we define the search range as the minimum generation loss of the positive cases and the maximum of the negative cases. For each iteration, we pick up half of the search range using the heuristic function to evaluate the picked range contains the split point. When the search range is smaller than 0.01, the iterations stop."
   ]
  },
  {
   "cell_type": "code",
   "execution_count": 15,
   "metadata": {},
   "outputs": [
    {
     "name": "stdout",
     "output_type": "stream",
     "text": [
      "-2.1654911041259766 -> -0.46983790397644043\n",
      "-1.3176645040512085 -> -0.46983790397644043\n",
      "-1.3176645040512085 -> -0.8937512040138245\n",
      "-1.2116861790418625 -> -0.9997295290231705\n",
      "-1.2116861790418625 -> -1.1057078540325165\n",
      "-1.2116861790418625 -> -1.1586970165371895\n",
      "-1.185191597789526 -> -1.1586970165371895\n",
      "-1.1719443071633577 -> -1.1586970165371895\n",
      "-1.1653206618502736 -> -1.1586970165371895\n",
      "\n",
      "Split point: -1.1620088391937315\n"
     ]
    }
   ],
   "source": [
    "def precise_rate(split_point):\n",
    "    rate1=(loss1<split_point).sum().item()/float(len(loss1))\n",
    "    rate2=(loss2>split_point).sum().item()/float(len(loss2))\n",
    "    return (rate1+rate2)/2            \n",
    "\n",
    "def find_split_point(start,end,start_precise,end_precise):\n",
    "    print(start,'->',end)\n",
    "    delta=(end-start)/4.0\n",
    "    precise=[start_precise]\n",
    "    precise+=[precise_rate(start+i*delta) for i in range(1,4)]\n",
    "    precise+=[end_precise]\n",
    "\n",
    "    i = 0 if sum(precise[0:3])>sum(precise[1:4]) else 1\n",
    "    j = i if sum(precise[i:i+3])>sum(precise[2:5]) else 2\n",
    "\n",
    "    if end-start>0.01:\n",
    "        return find_split_point(start+j*delta,start+(j+2)*delta,precise[j],precise[j+2])\n",
    "    else:\n",
    "        return start+delta*np.argmax(precise)\n",
    "\n",
    "\n",
    "(start,end)=(loss1.max().item(),loss2.min().item())\n",
    "(start,end)=(start,end) if start<end else (end,start)\n",
    "split_point=find_split_point(start,end,precise_rate(start),precise_rate(end))\n",
    "print('\\nSplit point:',split_point)"
   ]
  },
  {
   "cell_type": "markdown",
   "metadata": {},
   "source": [
    "From the outputs above, we can see how the search range shrinks with each iterations, and the final split point calculated."
   ]
  },
  {
   "cell_type": "markdown",
   "metadata": {},
   "source": [
    "### Model precise rate"
   ]
  },
  {
   "cell_type": "code",
   "execution_count": 19,
   "metadata": {},
   "outputs": [
    {
     "name": "stdout",
     "output_type": "stream",
     "text": [
      "Precise rate for normal cases: 0.967479674796748\n",
      "Precise rate for fraud cases: 0.8719512195121951\n",
      "Overall precise: 0.9197154471544715\n"
     ]
    }
   ],
   "source": [
    "precise1=(loss1<split_point).sum().item()/float(len(loss1))\n",
    "precise2=(loss2>split_point).sum().item()/float(len(loss2))\n",
    "print('Precise rate for normal cases:',precise1)\n",
    "print('Precise rate for fraud cases:',precise2)\n",
    "print('Overall precise:',(precise1+precise2)/2)"
   ]
  },
  {
   "cell_type": "markdown",
   "metadata": {},
   "source": [
    "### Saving model"
   ]
  },
  {
   "cell_type": "code",
   "execution_count": 20,
   "metadata": {},
   "outputs": [],
   "source": [
    "#torch.save(model.state_dict(), 'creditcard-fraud-2.model')"
   ]
  }
 ],
 "metadata": {
  "file_extension": ".py",
  "kernelspec": {
   "display_name": "Python 3.6.4 64-bit ('miniconda3-latest': pyenv)",
   "language": "python",
   "name": "python36464bitminiconda3latestpyenvfaa952c22d91438a9b3b5ae49720d629"
  },
  "language_info": {
   "codemirror_mode": {
    "name": "ipython",
    "version": 3
   },
   "file_extension": ".py",
   "mimetype": "text/x-python",
   "name": "python",
   "nbconvert_exporter": "python",
   "pygments_lexer": "ipython3",
   "version": "3.6.4"
  },
  "mimetype": "text/x-python",
  "name": "python",
  "npconvert_exporter": "python",
  "pygments_lexer": "ipython3",
  "version": 3
 },
 "nbformat": 4,
 "nbformat_minor": 2
}
